{
 "cells": [
  {
   "cell_type": "markdown",
   "id": "8d282089",
   "metadata": {},
   "source": [
    "### Домашнее задание 5. Оганян Роберт"
   ]
  },
  {
   "cell_type": "markdown",
   "id": "b0c440ba",
   "metadata": {},
   "source": [
    "#### Постановка задачи"
   ]
  },
  {
   "cell_type": "markdown",
   "id": "e880330c",
   "metadata": {},
   "source": [
    "1. Определить тип данных для каждого столбца.\n",
    "\n",
    "2. Построить диаграммы рассеивания для пар данных:\n",
    "GRE – Chance of Admit, TOEFL – Chance of Admit,\n",
    "University Rating – Chance of Admit, SOP – Chance of Admit,\n",
    "LOR – Chance of Admit, CGPA – Chance of Admit.\n",
    "Привести визуальную оценку зависимости шанса поступления от\n",
    "указанных величин.\n",
    "\n",
    "3. Построить модель регрессии (простой линейной /\n",
    "множественной линейной / полиномиальной по независимым\n",
    "переменным), которая даст наилучший прогноз шанса поступления\n",
    "абитуриента. В качестве независимых переменных может\n",
    "выбираться любое количество величин из пункта 2.\n",
    "Выбрать оптимальную и обосновать оптимальность\n",
    "построенной модели с помощью разобранных метрик (R2, MSE, RSS)"
   ]
  },
  {
   "cell_type": "markdown",
   "id": "26cf1c5e",
   "metadata": {},
   "source": [
    "### 1. Определить тип данных для каждого столбца."
   ]
  },
  {
   "cell_type": "code",
   "execution_count": 203,
   "id": "03a3bdc9",
   "metadata": {},
   "outputs": [],
   "source": [
    "import pandas as pd\n",
    "import numpy as np\n",
    "import sklearn\n",
    "import seaborn as sns\n",
    "from matplotlib import pyplot as plt\n",
    "from scipy import stats"
   ]
  },
  {
   "cell_type": "code",
   "execution_count": 204,
   "id": "d47bdebb",
   "metadata": {
    "scrolled": false
   },
   "outputs": [
    {
     "data": {
      "text/html": [
       "<div>\n",
       "<style scoped>\n",
       "    .dataframe tbody tr th:only-of-type {\n",
       "        vertical-align: middle;\n",
       "    }\n",
       "\n",
       "    .dataframe tbody tr th {\n",
       "        vertical-align: top;\n",
       "    }\n",
       "\n",
       "    .dataframe thead th {\n",
       "        text-align: right;\n",
       "    }\n",
       "</style>\n",
       "<table border=\"1\" class=\"dataframe\">\n",
       "  <thead>\n",
       "    <tr style=\"text-align: right;\">\n",
       "      <th></th>\n",
       "      <th>Serial No.</th>\n",
       "      <th>GRE Score</th>\n",
       "      <th>TOEFL Score</th>\n",
       "      <th>University Rating</th>\n",
       "      <th>SOP</th>\n",
       "      <th>LOR</th>\n",
       "      <th>CGPA</th>\n",
       "      <th>Research</th>\n",
       "      <th>Chance of Admit</th>\n",
       "    </tr>\n",
       "  </thead>\n",
       "  <tbody>\n",
       "    <tr>\n",
       "      <th>0</th>\n",
       "      <td>1</td>\n",
       "      <td>337</td>\n",
       "      <td>118</td>\n",
       "      <td>4</td>\n",
       "      <td>4.5</td>\n",
       "      <td>4.5</td>\n",
       "      <td>9.65</td>\n",
       "      <td>1</td>\n",
       "      <td>0.92</td>\n",
       "    </tr>\n",
       "    <tr>\n",
       "      <th>1</th>\n",
       "      <td>2</td>\n",
       "      <td>324</td>\n",
       "      <td>107</td>\n",
       "      <td>4</td>\n",
       "      <td>4.0</td>\n",
       "      <td>4.5</td>\n",
       "      <td>8.87</td>\n",
       "      <td>1</td>\n",
       "      <td>0.76</td>\n",
       "    </tr>\n",
       "    <tr>\n",
       "      <th>2</th>\n",
       "      <td>3</td>\n",
       "      <td>316</td>\n",
       "      <td>104</td>\n",
       "      <td>3</td>\n",
       "      <td>3.0</td>\n",
       "      <td>3.5</td>\n",
       "      <td>8.00</td>\n",
       "      <td>1</td>\n",
       "      <td>0.72</td>\n",
       "    </tr>\n",
       "    <tr>\n",
       "      <th>3</th>\n",
       "      <td>4</td>\n",
       "      <td>322</td>\n",
       "      <td>110</td>\n",
       "      <td>3</td>\n",
       "      <td>3.5</td>\n",
       "      <td>2.5</td>\n",
       "      <td>8.67</td>\n",
       "      <td>1</td>\n",
       "      <td>0.80</td>\n",
       "    </tr>\n",
       "    <tr>\n",
       "      <th>4</th>\n",
       "      <td>5</td>\n",
       "      <td>314</td>\n",
       "      <td>103</td>\n",
       "      <td>2</td>\n",
       "      <td>2.0</td>\n",
       "      <td>3.0</td>\n",
       "      <td>8.21</td>\n",
       "      <td>0</td>\n",
       "      <td>0.65</td>\n",
       "    </tr>\n",
       "    <tr>\n",
       "      <th>...</th>\n",
       "      <td>...</td>\n",
       "      <td>...</td>\n",
       "      <td>...</td>\n",
       "      <td>...</td>\n",
       "      <td>...</td>\n",
       "      <td>...</td>\n",
       "      <td>...</td>\n",
       "      <td>...</td>\n",
       "      <td>...</td>\n",
       "    </tr>\n",
       "    <tr>\n",
       "      <th>395</th>\n",
       "      <td>396</td>\n",
       "      <td>324</td>\n",
       "      <td>110</td>\n",
       "      <td>3</td>\n",
       "      <td>3.5</td>\n",
       "      <td>3.5</td>\n",
       "      <td>9.04</td>\n",
       "      <td>1</td>\n",
       "      <td>0.82</td>\n",
       "    </tr>\n",
       "    <tr>\n",
       "      <th>396</th>\n",
       "      <td>397</td>\n",
       "      <td>325</td>\n",
       "      <td>107</td>\n",
       "      <td>3</td>\n",
       "      <td>3.0</td>\n",
       "      <td>3.5</td>\n",
       "      <td>9.11</td>\n",
       "      <td>1</td>\n",
       "      <td>0.84</td>\n",
       "    </tr>\n",
       "    <tr>\n",
       "      <th>397</th>\n",
       "      <td>398</td>\n",
       "      <td>330</td>\n",
       "      <td>116</td>\n",
       "      <td>4</td>\n",
       "      <td>5.0</td>\n",
       "      <td>4.5</td>\n",
       "      <td>9.45</td>\n",
       "      <td>1</td>\n",
       "      <td>0.91</td>\n",
       "    </tr>\n",
       "    <tr>\n",
       "      <th>398</th>\n",
       "      <td>399</td>\n",
       "      <td>312</td>\n",
       "      <td>103</td>\n",
       "      <td>3</td>\n",
       "      <td>3.5</td>\n",
       "      <td>4.0</td>\n",
       "      <td>8.78</td>\n",
       "      <td>0</td>\n",
       "      <td>0.67</td>\n",
       "    </tr>\n",
       "    <tr>\n",
       "      <th>399</th>\n",
       "      <td>400</td>\n",
       "      <td>333</td>\n",
       "      <td>117</td>\n",
       "      <td>4</td>\n",
       "      <td>5.0</td>\n",
       "      <td>4.0</td>\n",
       "      <td>9.66</td>\n",
       "      <td>1</td>\n",
       "      <td>0.95</td>\n",
       "    </tr>\n",
       "  </tbody>\n",
       "</table>\n",
       "<p>400 rows × 9 columns</p>\n",
       "</div>"
      ],
      "text/plain": [
       "     Serial No.  GRE Score  TOEFL Score  University Rating  SOP  LOR   CGPA  \\\n",
       "0             1        337          118                  4  4.5   4.5  9.65   \n",
       "1             2        324          107                  4  4.0   4.5  8.87   \n",
       "2             3        316          104                  3  3.0   3.5  8.00   \n",
       "3             4        322          110                  3  3.5   2.5  8.67   \n",
       "4             5        314          103                  2  2.0   3.0  8.21   \n",
       "..          ...        ...          ...                ...  ...   ...   ...   \n",
       "395         396        324          110                  3  3.5   3.5  9.04   \n",
       "396         397        325          107                  3  3.0   3.5  9.11   \n",
       "397         398        330          116                  4  5.0   4.5  9.45   \n",
       "398         399        312          103                  3  3.5   4.0  8.78   \n",
       "399         400        333          117                  4  5.0   4.0  9.66   \n",
       "\n",
       "     Research  Chance of Admit   \n",
       "0           1              0.92  \n",
       "1           1              0.76  \n",
       "2           1              0.72  \n",
       "3           1              0.80  \n",
       "4           0              0.65  \n",
       "..        ...               ...  \n",
       "395         1              0.82  \n",
       "396         1              0.84  \n",
       "397         1              0.91  \n",
       "398         0              0.67  \n",
       "399         1              0.95  \n",
       "\n",
       "[400 rows x 9 columns]"
      ]
     },
     "execution_count": 204,
     "metadata": {},
     "output_type": "execute_result"
    }
   ],
   "source": [
    "data = pd.read_excel(\"data/enrollment.xlsx\")\n",
    "data"
   ]
  },
  {
   "cell_type": "code",
   "execution_count": 205,
   "id": "79b5b415",
   "metadata": {},
   "outputs": [
    {
     "data": {
      "text/plain": [
       "4.0    70\n",
       "3.5    70\n",
       "3.0    64\n",
       "4.5    53\n",
       "2.5    47\n",
       "5.0    37\n",
       "2.0    33\n",
       "1.5    20\n",
       "1.0     6\n",
       "Name: SOP, dtype: int64"
      ]
     },
     "execution_count": 205,
     "metadata": {},
     "output_type": "execute_result"
    }
   ],
   "source": [
    "data['SOP'].value_counts()"
   ]
  },
  {
   "cell_type": "code",
   "execution_count": 206,
   "id": "4965e7ed",
   "metadata": {},
   "outputs": [
    {
     "data": {
      "text/plain": [
       "3.0    85\n",
       "4.0    77\n",
       "3.5    73\n",
       "4.5    45\n",
       "2.5    39\n",
       "2.0    38\n",
       "5.0    35\n",
       "1.5     7\n",
       "1.0     1\n",
       "Name: LOR , dtype: int64"
      ]
     },
     "execution_count": 206,
     "metadata": {},
     "output_type": "execute_result"
    }
   ],
   "source": [
    "data['LOR '].value_counts()"
   ]
  },
  {
   "cell_type": "markdown",
   "id": "936ac9ef",
   "metadata": {},
   "source": [
    "На первый взгляд SOP и LOR казались непрерывными, но мы видим, что они принимают 9 различных значений, значит относятся к количественным дискретным."
   ]
  },
  {
   "cell_type": "code",
   "execution_count": 207,
   "id": "d8b8e4b6",
   "metadata": {},
   "outputs": [
    {
     "data": {
      "text/plain": [
       "Serial No.             int64\n",
       "GRE Score              int64\n",
       "TOEFL Score            int64\n",
       "University Rating      int64\n",
       "SOP                  float64\n",
       "LOR                  float64\n",
       "CGPA                 float64\n",
       "Research               int64\n",
       "Chance of Admit      float64\n",
       "dtype: object"
      ]
     },
     "execution_count": 207,
     "metadata": {},
     "output_type": "execute_result"
    }
   ],
   "source": [
    "data.dtypes"
   ]
  },
  {
   "cell_type": "code",
   "execution_count": 208,
   "id": "569d02bb",
   "metadata": {},
   "outputs": [
    {
     "data": {
      "text/plain": [
       "Index(['Serial No.', 'GRE Score', 'TOEFL Score', 'University Rating', 'SOP',\n",
       "       'LOR ', 'CGPA', 'Research', 'Chance of Admit '],\n",
       "      dtype='object')"
      ]
     },
     "execution_count": 208,
     "metadata": {},
     "output_type": "execute_result"
    }
   ],
   "source": [
    "data.columns"
   ]
  },
  {
   "cell_type": "markdown",
   "id": "e4dbd63e",
   "metadata": {},
   "source": [
    "**Количественные дискретные** - целые числа/счетное множество:*SOP*, *LOR*, *Serial No*, *GRE Score*, *TOEFL Score*"
   ]
  },
  {
   "cell_type": "markdown",
   "id": "f2da9d3d",
   "metadata": {},
   "source": [
    "**Количественные непрерывные** - вещественные числа и дата / Несчетное множество: *CGPA*, *Chance of Admit*"
   ]
  },
  {
   "cell_type": "markdown",
   "id": "ff22ed93",
   "metadata": {},
   "source": [
    "**Категориальные ординальные - категориальные признаки, которые \"упорядочиваются\", но порядок выражается не числами**: *University Rating*"
   ]
  },
  {
   "cell_type": "markdown",
   "id": "e1be0b89",
   "metadata": {},
   "source": [
    "**Категориальные номинальные дихотомические (бинарные) - категориальный признак, который может быть либо true, либо false**: *Research*"
   ]
  },
  {
   "cell_type": "markdown",
   "id": "987522cc",
   "metadata": {},
   "source": [
    "**Категориальные номинальные** - нечисловые данные, можно сказать классы: Нет"
   ]
  },
  {
   "cell_type": "markdown",
   "id": "7a84d067",
   "metadata": {},
   "source": [
    "### 2. Построить диаграммы рассеивания для пар данных: GRE , TOEFL , University Rating, SOP, LOR , CGPA с Chance of Admit. Привести визуальную оценку зависимости шанса поступления от указанных величин."
   ]
  },
  {
   "cell_type": "code",
   "execution_count": 209,
   "id": "f56791a9",
   "metadata": {},
   "outputs": [
    {
     "data": {
      "text/plain": [
       "<seaborn.axisgrid.PairGrid at 0x20a22c1df10>"
      ]
     },
     "execution_count": 209,
     "metadata": {},
     "output_type": "execute_result"
    },
    {
     "data": {
      "image/png": "[encoded data removed]",
      "text/plain": [
       "<Figure size 720x180 with 5 Axes>"
      ]
     },
     "metadata": {
      "needs_background": "light"
     },
     "output_type": "display_data"
    }
   ],
   "source": [
    "data2 = data[[\"Chance of Admit \", \"GRE Score\", \"TOEFL Score\", \"University Rating\"]].astype(float).dropna()\n",
    "sns.pairplot(data2, y_vars=[\"Chance of Admit \"], kind=\"scatter\")"
   ]
  },
  {
   "cell_type": "code",
   "execution_count": 210,
   "id": "6e13d6e9",
   "metadata": {},
   "outputs": [
    {
     "data": {
      "text/plain": [
       "<seaborn.axisgrid.PairGrid at 0x20a22c25130>"
      ]
     },
     "execution_count": 210,
     "metadata": {},
     "output_type": "execute_result"
    },
    {
     "data": {
      "image/png": "[encoded data removed]",
      "text/plain": [
       "<Figure size 720x180 with 5 Axes>"
      ]
     },
     "metadata": {
      "needs_background": "light"
     },
     "output_type": "display_data"
    }
   ],
   "source": [
    "data3 = data[[\"Chance of Admit \", \"SOP\", \"LOR \", \"CGPA\"]].astype(float).dropna()\n",
    "sns.pairplot(data3, y_vars=[\"Chance of Admit \"], kind=\"scatter\")"
   ]
  },
  {
   "cell_type": "markdown",
   "id": "ae70515b",
   "metadata": {},
   "source": [
    "Построим также матрицу ковариации"
   ]
  },
  {
   "cell_type": "code",
   "execution_count": 211,
   "id": "4868fdc9",
   "metadata": {},
   "outputs": [],
   "source": [
    "data_all = data.dropna().drop('Serial No.', axis = 1)"
   ]
  },
  {
   "cell_type": "code",
   "execution_count": 212,
   "id": "c0db2b0e",
   "metadata": {
    "scrolled": false
   },
   "outputs": [
    {
     "data": {
      "text/plain": [
       "<AxesSubplot:>"
      ]
     },
     "execution_count": 212,
     "metadata": {},
     "output_type": "execute_result"
    },
    {
     "data": {
      "image/png": "[encoded data removed]",
      "text/plain": [
       "<Figure size 720x576 with 2 Axes>"
      ]
     },
     "metadata": {
      "needs_background": "light"
     },
     "output_type": "display_data"
    }
   ],
   "source": [
    "corr_fi = data_all.corr()\n",
    "fig = plt.figure(figsize=(10, 8))\n",
    "sns.heatmap(corr_fi,\n",
    "            xticklabels = corr_fi.columns,\n",
    "            yticklabels = corr_fi.columns,\n",
    "            annot = True,\n",
    "            cmap=\"RdPu\",\n",
    "            annot_kws={\"weight\":\"bold\"})"
   ]
  },
  {
   "cell_type": "markdown",
   "id": "d68e7aa3",
   "metadata": {},
   "source": [
    "Выводы:"
   ]
  },
  {
   "cell_type": "markdown",
   "id": "0ac284de",
   "metadata": {},
   "source": [
    "1. Очевидна явная линейная зависимость между Change of Admit и GRE Score, TOEFK Score и GGPA.\n",
    "2. Чем больше SOP, LOR, University rating, тем в среднем Chance of Admit выше.\n",
    "3. Матрица ковариации подтверждает мои тезисы."
   ]
  },
  {
   "cell_type": "markdown",
   "id": "5a740dcf",
   "metadata": {},
   "source": [
    "### 3. Построить модель регрессии (простой линейной / множественной линейной / полиномиальной по независимым переменным), которая даст наилучший прогноз шанса поступления абитуриента. В качестве независимых переменных может выбираться любое количество величин из пункта 2. Выбрать оптимальную и обосновать оптимальность построенной модели с помощью разобранных метрик (R2, MSE, RSS)"
   ]
  },
  {
   "cell_type": "code",
   "execution_count": 213,
   "id": "dc61d27c",
   "metadata": {},
   "outputs": [],
   "source": [
    "from sklearn.metrics import r2_score\n",
    "from sklearn.linear_model import LinearRegression\n",
    "from sklearn.model_selection import train_test_split\n",
    "from sklearn.metrics import mean_squared_error"
   ]
  },
  {
   "cell_type": "code",
   "execution_count": 214,
   "id": "416c230a",
   "metadata": {},
   "outputs": [],
   "source": [
    "def residual_sum_of_squares(val_y, y_pred):\n",
    "    return ((val_y - y_pred)**2).sum()    "
   ]
  },
  {
   "cell_type": "markdown",
   "id": "230e5c12",
   "metadata": {},
   "source": [
    "Подготовим данные"
   ]
  },
  {
   "cell_type": "code",
   "execution_count": 215,
   "id": "798e20dc",
   "metadata": {},
   "outputs": [],
   "source": [
    "X = data_all.drop('Chance of Admit ', axis = 1)\n",
    "y = data_all['Chance of Admit ']"
   ]
  },
  {
   "cell_type": "code",
   "execution_count": 216,
   "id": "58a52c99",
   "metadata": {},
   "outputs": [],
   "source": [
    "from sklearn.model_selection import train_test_split\n",
    "train_x, val_x, train_y, val_y = train_test_split(X, y, test_size=0.2, train_size=0.8, random_state=0)"
   ]
  },
  {
   "cell_type": "code",
   "execution_count": 217,
   "id": "e5a3c9ce",
   "metadata": {},
   "outputs": [],
   "source": [
    "metrics = ['r2', 'mse', 'rss']"
   ]
  },
  {
   "cell_type": "markdown",
   "id": "85008227",
   "metadata": {},
   "source": [
    "#### Простая линейная (с одним признаком) регрессия"
   ]
  },
  {
   "cell_type": "code",
   "execution_count": 218,
   "id": "19da3798",
   "metadata": {},
   "outputs": [
    {
     "name": "stdout",
     "output_type": "stream",
     "text": [
      " CGPA\n",
      "r2 0.6730821148420707\n",
      "mse 0.005939275570514724\n",
      "rss 0.4751420456411779\n",
      "\n",
      " TOEFL Score\n",
      "r2 0.6217126483450097\n",
      "mse 0.006872529550452167\n",
      "rss 0.5498023640361733\n",
      "\n",
      " GRE Score\n",
      "r2 0.5456668070172048\n",
      "mse 0.008254091184558793\n",
      "rss 0.6603272947647034\n",
      "\n",
      " SOP \n",
      "r2 0.4382835132002727\n",
      "mse 0.01020497549711394\n",
      "rss 0.8163980397691152\n",
      "\n",
      " LOR \n",
      "r2 0.3910151898510317\n",
      "mse 0.011063722022993723\n",
      "rss 0.8850977618394978\n",
      "\n",
      " University Rating\n",
      "r2 0.36779434536396804\n",
      "mse 0.011485586352386758\n",
      "rss 0.9188469081909406\n",
      "\n",
      " Research\n",
      "r2 0.2354141655101606\n",
      "mse 0.013890601201440495\n",
      "rss 1.1112480961152396\n",
      "\n"
     ]
    }
   ],
   "source": [
    "cols = data.columns.tolist()[1:-1]\n",
    "results1 = [[], [], []]\n",
    "\n",
    "for col in cols:\n",
    "    model = LinearRegression()\n",
    "    cur_train_x = np.reshape(train_x[col].values, (-1, 1))\n",
    "    model.fit(cur_train_x, train_y)\n",
    "    cur_val_x = np.reshape(val_x[col].values, (-1, 1))\n",
    "    y_pred = model.predict(cur_val_x)\n",
    "    \n",
    "    results1[0].append(r2_score(val_y, y_pred))\n",
    "    results1[1].append(mean_squared_error(val_y, y_pred))\n",
    "    results1[2].append(residual_sum_of_squares(val_y, y_pred))       \n",
    "\n",
    "    \n",
    "results1 = np.concatenate((np.array(cols).T.reshape(len(cols),1), np.array(results1).T), axis=1)    \n",
    "results1 = sorted(results1, key=lambda x:x[2])\n",
    "\n",
    "for i in range(len(results1)):\n",
    "    for j in range(len(results1[0])):\n",
    "        if (j == 0):\n",
    "            print (' {:4}'.format(results1[i][j]))\n",
    "        else:\n",
    "            print (metrics[j-1] + ' {:4}'.format(results1[i][j]))\n",
    "    print()"
   ]
  },
  {
   "cell_type": "markdown",
   "id": "47d516d2",
   "metadata": {},
   "source": [
    "Из простых моделей с одним признаком лучшей оказалась модель с признаком CGPA.\n",
    "1. r2 = 0.6730821148420707\n",
    "\n",
    "2. mse = 0.005939275570514724\n",
    "\n",
    "3. rss = 0.4751420456411779"
   ]
  },
  {
   "cell_type": "markdown",
   "id": "99e7444c",
   "metadata": {},
   "source": [
    "#### Множественная линейная (обычная) регрессия"
   ]
  },
  {
   "cell_type": "code",
   "execution_count": 223,
   "id": "d490f43d",
   "metadata": {},
   "outputs": [
    {
     "name": "stdout",
     "output_type": "stream",
     "text": [
      " TOEFL Score,LOR ,CGPA,Research\n",
      "r2 0.7409169815906385\n",
      "mse 0.004706886688779915\n",
      "rss 0.3765509351023932\n",
      "\n",
      " TOEFL Score,University Rating,LOR ,CGPA,Research\n",
      "r2 0.7403901131205717\n",
      "mse 0.004716458563477531\n",
      "rss 0.3773166850782025\n",
      "\n",
      " TOEFL Score,SOP,LOR ,CGPA,Research\n",
      "r2 0.7396065872329732\n",
      "mse 0.004730693257797884\n",
      "rss 0.37845546062383073\n",
      "\n",
      " TOEFL Score,University Rating,SOP,LOR ,CGPA,Research\n",
      "r2 0.7386069268081306\n",
      "mse 0.004748854572946519\n",
      "rss 0.3799083658357215\n",
      "\n",
      " GRE Score,TOEFL Score,University Rating,LOR ,CGPA,Research\n",
      "r2 0.7360575747319804\n",
      "mse 0.0047951698869563505\n",
      "rss 0.38361359095650804\n",
      "\n",
      " GRE Score,TOEFL Score,LOR ,CGPA,Research\n",
      "r2 0.7359165973516898\n",
      "mse 0.004797731091310009\n",
      "rss 0.3838184873048008\n",
      "\n",
      " GRE Score,TOEFL Score,SOP,LOR ,CGPA,Research\n",
      "r2 0.7354852893643801\n",
      "mse 0.004805566872430272\n",
      "rss 0.38444534979442174\n",
      "\n",
      " TOEFL Score,LOR ,CGPA\n",
      "r2 0.7316636091573834\n",
      "mse 0.0048749971878771295\n",
      "rss 0.38999977503017036\n",
      "\n",
      " TOEFL Score,University Rating,LOR ,CGPA\n",
      "r2 0.7314883925451968\n",
      "mse 0.004878180432941271\n",
      "rss 0.39025443463530163\n",
      "\n",
      " GRE Score,TOEFL Score,University Rating,LOR ,CGPA\n",
      "r2 0.7314491711576595\n",
      "mse 0.0048788929868865205\n",
      "rss 0.39031143895092163\n",
      "\n"
     ]
    }
   ],
   "source": [
    "from itertools import combinations\n",
    "\n",
    "results2 = [[], [], []]\n",
    "metrics2 = []\n",
    "for cnt in range(1, len(cols)):\n",
    "    combs = list(combinations(cols, cnt))\n",
    "    for col in combs:\n",
    "        metrics2.append(','.join(col))\n",
    "        col = list(col)\n",
    "        model = LinearRegression()\n",
    "        cur_train_x = np.reshape(train_x[col].values, (-1, len(col)))\n",
    "        model.fit(cur_train_x, train_y)\n",
    "        cur_val_x = np.reshape(val_x[col].values, (-1, len(col)))\n",
    "        y_pred = model.predict(cur_val_x)\n",
    "\n",
    "        results2[0].append(r2_score(val_y, y_pred))\n",
    "        results2[1].append(mean_squared_error(val_y, y_pred))\n",
    "        results2[2].append(residual_sum_of_squares(val_y, y_pred))       \n",
    "\n",
    "    \n",
    "results2 = np.concatenate((np.array(metrics2).T.reshape(len(metrics2),1), np.array(results2).T), axis=1)    \n",
    "results2 = sorted(results2, key=lambda x:x[2])\n",
    "results2 = results2[:10]\n",
    "\n",
    "for i in range(len(results2)):\n",
    "    for j in range(len(results2[0])):\n",
    "        if (j == 0):\n",
    "            print (' {:4}'.format(results2[i][j]))\n",
    "        else:\n",
    "            print (metrics[j-1] + ' {:4}'.format(results2[i][j]))\n",
    "    print()"
   ]
  },
  {
   "cell_type": "markdown",
   "id": "2d72cd82",
   "metadata": {},
   "source": [
    "Для множественной регрессии оказалась лучшей модель с признаками TOEFL Score,LOR ,CGPA,Research.\n",
    "\n",
    "1. r2 = 0.7409169815906385\n",
    "\n",
    "2. mse = 0.004706886688779915\n",
    "\n",
    "3. rss = 0.3765509351023932"
   ]
  },
  {
   "cell_type": "markdown",
   "id": "af573a77",
   "metadata": {},
   "source": [
    "#### Полиномиальная (признаки в степени) регрессия"
   ]
  },
  {
   "cell_type": "code",
   "execution_count": 220,
   "id": "b3a9eeaa",
   "metadata": {},
   "outputs": [],
   "source": [
    "from sklearn.preprocessing import PolynomialFeatures\n",
    "def polynomiс_regression(data_train, data_val, degree):\n",
    "    poly = PolynomialFeatures(degree=degree, include_bias=False)\n",
    "    poly_train_x = poly.fit_transform(data_train)\n",
    "    model = LinearRegression()\n",
    "    model.fit(poly_train_x, train_y)\n",
    "    y_pred = model.predict(poly.fit_transform(data_val))\n",
    "    return y_pred"
   ]
  },
  {
   "cell_type": "code",
   "execution_count": 224,
   "id": "f9fa012d",
   "metadata": {},
   "outputs": [
    {
     "name": "stdout",
     "output_type": "stream",
     "text": [
      " degree 2.TOEFL Score,SOP,LOR ,CGPA,Research\n",
      "r2 0.7313519247313405\n",
      "mse 0.004880659709817196\n",
      "rss 0.3904527767853757\n",
      "\n",
      " degree 2.TOEFL Score,LOR ,CGPA,Research\n",
      "r2 0.7258822259459669\n",
      "mse 0.004980030377036428\n",
      "rss 0.39840243016291427\n",
      "\n",
      " degree 2.TOEFL Score,University Rating,SOP,LOR ,CGPA,Research\n",
      "r2 0.722955763482911\n",
      "mse 0.005033196838108019\n",
      "rss 0.4026557470486415\n",
      "\n",
      " degree 2.TOEFL Score,SOP,CGPA,Research\n",
      "r2 0.7219010248232811\n",
      "mse 0.005052358786226554\n",
      "rss 0.4041887028981243\n",
      "\n",
      " degree 2.TOEFL Score,SOP,LOR ,CGPA\n",
      "r2 0.7204252303869796\n",
      "mse 0.0050791702585887746\n",
      "rss 0.406333620687102\n",
      "\n",
      " degree 2.TOEFL Score,LOR ,CGPA\n",
      "r2 0.720004058217265\n",
      "mse 0.005086821897401248\n",
      "rss 0.40694575179209985\n",
      "\n",
      " degree 2.GRE Score,SOP,LOR ,CGPA,Research\n",
      "r2 0.7197051176541084\n",
      "mse 0.00509225289541145\n",
      "rss 0.407380231632916\n",
      "\n",
      " degree 2.TOEFL Score,CGPA,Research\n",
      "r2 0.718488638112941\n",
      "mse 0.005114353268468116\n",
      "rss 0.4091482614774493\n",
      "\n",
      " degree 2.GRE Score,University Rating,SOP,LOR ,CGPA,Research\n",
      "r2 0.7175137645104586\n",
      "mse 0.005132064269408816\n",
      "rss 0.4105651415527053\n",
      "\n",
      " degree 2.GRE Score,TOEFL Score,LOR ,CGPA,Research\n",
      "r2 0.7171594363334568\n",
      "mse 0.005138501521028117\n",
      "rss 0.41108012168224933\n",
      "\n"
     ]
    }
   ],
   "source": [
    "results3 = [[], [], []]\n",
    "metrics3 = []\n",
    "for cnt in range(1, len(cols)):\n",
    "    combs = list(combinations(cols, cnt))\n",
    "    for col in combs:\n",
    "        for degree in range(2,4):\n",
    "            metrics3.append('degree ' + str(degree) + '.' + ','.join(col))\n",
    "            col = list(col)\n",
    "            model = LinearRegression()\n",
    "            cur_train_x = np.reshape(train_x[col].values, (-1, len(col)))\n",
    "            model.fit(cur_train_x, train_y)\n",
    "            cur_val_x = np.reshape(val_x[col].values, (-1, len(col)))\n",
    "            y_pred = polynomiс_regression(cur_train_x, cur_val_x, degree)\n",
    "\n",
    "            results3[0].append(r2_score(val_y, y_pred))\n",
    "            results3[1].append(mean_squared_error(val_y, y_pred))\n",
    "            results3[2].append(residual_sum_of_squares(val_y, y_pred))       \n",
    "        \n",
    "\n",
    "    \n",
    "results3 = np.concatenate((np.array(metrics3).T.reshape(len(metrics3),1), np.array(results3).T), axis=1)    \n",
    "results3 = sorted(results3, key=lambda x:x[2])\n",
    "results3 = results3[:10]\n",
    "\n",
    "for i in range(len(results3)):\n",
    "    for j in range(len(results3[0])):\n",
    "        if (j == 0):\n",
    "            print (' {:4}'.format(results3[i][j]))\n",
    "        else:\n",
    "            print (metrics[j-1] + ' {:4}'.format(results3[i][j]))\n",
    "    print()"
   ]
  },
  {
   "cell_type": "markdown",
   "id": "6772886a",
   "metadata": {},
   "source": [
    "Из полиномиальных моделей оказалась модель со степенью 2 и признаками TOEFL Score,SOP,LOR ,CGPA,Research.\n",
    "\n",
    "1. r2 = 0.7313519247313405\n",
    "\n",
    "2. mse = 0.004880659709817196\n",
    "\n",
    "3. rss = 0.3904527767853757"
   ]
  },
  {
   "cell_type": "markdown",
   "id": "6d39ea7e",
   "metadata": {},
   "source": [
    "#### Выводы"
   ]
  },
  {
   "cell_type": "markdown",
   "id": "37100f39",
   "metadata": {},
   "source": [
    "1. Лучше оказалась полиномиальная модель со степенью 2 и признаками TOEFL Score, SOP, LOR, CGPA, Research.\n",
    "2. Это не стало неожиданностью, так как прямая линия очень редко когда является идеальной моделью. Как правило, зависимости всегда нелинейны, для чего и пригодилась полиномиальная регрессия\n",
    "3. Все полученные наблюдения и все сделанные выводы в действительности могут быть полностью неверными, так как мы обучались на 400 данных. Это очень маленькая выборка."
   ]
  }
 ],
 "metadata": {
  "kernelspec": {
   "display_name": "Python 3",
   "language": "python",
   "name": "python3"
  },
  "language_info": {
   "codemirror_mode": {
    "name": "ipython",
    "version": 3
   },
   "file_extension": ".py",
   "mimetype": "text/x-python",
   "name": "python",
   "nbconvert_exporter": "python",
   "pygments_lexer": "ipython3",
   "version": "3.8.5"
  }
 },
 "nbformat": 4,
 "nbformat_minor": 5
}
